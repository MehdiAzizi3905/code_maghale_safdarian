{
 "cells": [
  {
   "cell_type": "code",
   "execution_count": 106,
   "id": "d10921db",
   "metadata": {},
   "outputs": [
    {
     "name": "stdout",
     "output_type": "stream",
     "text": [
      "{(1, 't1'): 0.6, (1, 't2'): 0.1, (1, 't3'): -1.0, (1, 't4'): 0.4, (2, 't1'): 1.6, (2, 't2'): 0.7, (2, 't3'): 1.1, (2, 't4'): 1.3, (3, 't1'): 0.5, (3, 't2'): 0.8, (3, 't3'): 1.2, (3, 't4'): 1.5}\n"
     ]
    }
   ],
   "source": [
    "import pyomo.environ as pyo\n",
    "import pandas as pd\n",
    "from itertools import combinations\n",
    "import numpy as np\n",
    "\n",
    "landa = 16\n",
    "mu = 5\n",
    "\n",
    "model = pyo.ConcreteModel()\n",
    "\n",
    "prosumers1 = pd.read_excel(\"C:/Users/user/Desktop/pro.xlsx\", header=0, index_col=0)\n",
    "R = list(prosumers1.index)\n",
    "C = list(prosumers1.columns)\n",
    "p = {(r, c): prosumers1.at[r, c] for r in R for c in C}\n",
    "print(p)"
   ]
  },
  {
   "cell_type": "code",
   "execution_count": 107,
   "id": "486c2f1e",
   "metadata": {},
   "outputs": [
    {
     "name": "stdout",
     "output_type": "stream",
     "text": [
      "[1, 2]\n"
     ]
    }
   ],
   "source": [
    "N = R.copy()\n",
    "delta = []\n",
    "for r in range(1, len(N) + 1):\n",
    "    for comb in combinations(N, r):\n",
    "        delta.append(list(comb))\n",
    "for i in range(len(delta)):\n",
    "    globals()[\"delta{}\".format(i + 1)] = delta[i]\n",
    "print(delta[3])"
   ]
  },
  {
   "cell_type": "code",
   "execution_count": 108,
   "id": "74adaa24",
   "metadata": {},
   "outputs": [],
   "source": [
    "# set\n",
    "model.t = pyo.Set(initialize=C)\n",
    "model.n = pyo.Set(initialize=N)\n",
    "\n",
    "# parameters\n",
    "\n",
    "model.p = pyo.Param(model.n, model.t, initialize=p)"
   ]
  },
  {
   "cell_type": "code",
   "execution_count": null,
   "id": "ce7184c2",
   "metadata": {},
   "outputs": [],
   "source": []
  },
  {
   "cell_type": "code",
   "execution_count": 109,
   "id": "cc974d0b",
   "metadata": {},
   "outputs": [],
   "source": [
    "#variables\n",
    "model.epsilon = pyo.Var(within = pyo.NonNegativeReals)\n",
    "model.x = pyo.Var(model.n, within = pyo.NonNegativeReals)"
   ]
  },
  {
   "cell_type": "code",
   "execution_count": 110,
   "id": "fdaf6371",
   "metadata": {},
   "outputs": [],
   "source": [
    "#objective\n",
    "model.obj = pyo.Objective(expr = model.epsilon, sense = pyo.minimize)\n"
   ]
  },
  {
   "cell_type": "code",
   "execution_count": 111,
   "id": "8d113650",
   "metadata": {},
   "outputs": [
    {
     "name": "stdout",
     "output_type": "stream",
     "text": [
      "- x[1]  <=  epsilon\n",
      "- x[2]  <=  epsilon\n",
      "- x[3]  <=  epsilon\n",
      "11.0 - (x[1] + x[2])  <=  epsilon\n",
      "11.0 - (x[1] + x[3])  <=  epsilon\n",
      "- (x[2] + x[3])  <=  epsilon\n",
      "11.0 - (x[1] + x[2] + x[3])  <=  epsilon\n"
     ]
    }
   ],
   "source": [
    "#consstraint\n",
    "def con1_rule(model):\n",
    "    for h in range((pow(2, len(N))) - 1):\n",
    "        result = 0\n",
    "        for t in model.t:\n",
    "            for i in delta[h]:\n",
    "                if model.p[i, t] > 0:\n",
    "                    k1 = landa\n",
    "                else:\n",
    "                    k1 = mu\n",
    "                result += k1 * model.p[i, t]\n",
    "\n",
    "            s = sum(model.p[j, t] for j in delta[h])\n",
    "            if s > 0:\n",
    "                k2 = landa\n",
    "            else:\n",
    "                k2 = mu\n",
    "\n",
    "            result -= k2 * s\n",
    "        condition = result - sum(model.x[i] for i in delta[h]) <= model.epsilon\n",
    "        print(condition)\n",
    "    return condition\n",
    "model.con1 = pyo.Constraint(rule = con1_rule)"
   ]
  },
  {
   "cell_type": "code",
   "execution_count": 112,
   "id": "808542d9",
   "metadata": {},
   "outputs": [
    {
     "name": "stdout",
     "output_type": "stream",
     "text": [
      "x[1] + x[2] + x[3]  ==  11.0\n"
     ]
    }
   ],
   "source": [
    "def con2_rule(model):\n",
    "    result = 0\n",
    "    for h in range(1):\n",
    "        for t in model.t:\n",
    "            for i in N:\n",
    "                if model.p[i,t]>0:\n",
    "                    k1 = landa\n",
    "                else:\n",
    "                    k1 = mu\n",
    "                result += k1*model.p[i,t]\n",
    "            s = sum(model.p[j,t] for j in N)\n",
    "            if s > 0:\n",
    "                k2 = landa\n",
    "            else:\n",
    "                k2 = mu\n",
    "            result -= k2*s\n",
    "                \n",
    "    condition = sum(model.x[i] for i in N) == result\n",
    "    print(condition)\n",
    "    return condition\n",
    "    \n",
    "model.con2 = pyo.Constraint(rule = con2_rule)    \n",
    "\n",
    "    "
   ]
  },
  {
   "cell_type": "code",
   "execution_count": 113,
   "id": "f9af4976",
   "metadata": {},
   "outputs": [
    {
     "name": "stdout",
     "output_type": "stream",
     "text": [
      "Model unknown\n",
      "\n",
      "  Variables:\n",
      "    epsilon : Size=1, Index=None\n",
      "        Key  : Lower : Value : Upper : Fixed : Stale : Domain\n",
      "        None :     0 :   0.0 :  None : False : False : NonNegativeReals\n",
      "    x : Size=3, Index=n\n",
      "        Key : Lower : Value : Upper : Fixed : Stale : Domain\n",
      "          1 :     0 :   0.0 :  None : False : False : NonNegativeReals\n",
      "          2 :     0 :   0.0 :  None : False : False : NonNegativeReals\n",
      "          3 :     0 :  11.0 :  None : False : False : NonNegativeReals\n",
      "\n",
      "  Objectives:\n",
      "    obj : Size=1, Index=None, Active=True\n",
      "        Key  : Active : Value\n",
      "        None :   True :   0.0\n",
      "\n",
      "  Constraints:\n",
      "    con1 : Size=1\n",
      "        Key  : Lower : Body : Upper\n",
      "        None :  None :  0.0 :   0.0\n",
      "    con2 : Size=1\n",
      "        Key  : Lower : Body : Upper\n",
      "        None :  11.0 : 11.0 :  11.0\n"
     ]
    }
   ],
   "source": [
    "opt = pyo.SolverFactory('glpk')\n",
    "res = opt.solve(model)\n",
    "model.display()"
   ]
  }
 ],
 "metadata": {
  "kernelspec": {
   "display_name": "Python 3 (ipykernel)",
   "language": "python",
   "name": "python3"
  },
  "language_info": {
   "codemirror_mode": {
    "name": "ipython",
    "version": 3
   },
   "file_extension": ".py",
   "mimetype": "text/x-python",
   "name": "python",
   "nbconvert_exporter": "python",
   "pygments_lexer": "ipython3",
   "version": "3.11.5"
  }
 },
 "nbformat": 4,
 "nbformat_minor": 5
}
